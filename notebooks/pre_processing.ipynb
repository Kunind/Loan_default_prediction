{
 "cells": [
  {
   "cell_type": "code",
   "execution_count": 1,
   "id": "9d8554a9-c3cb-46f9-a80a-eba6f63d4964",
   "metadata": {},
   "outputs": [],
   "source": [
    "import pandas as pd\n",
    "from pathlib import Path\n",
    "import matplotlib.pyplot as plt"
   ]
  },
  {
   "cell_type": "code",
   "execution_count": 2,
   "id": "8b88381a-eda7-49e6-9022-329aa492199b",
   "metadata": {},
   "outputs": [],
   "source": [
    "file_train = Path(r\"C:\\devel\\Loan_default_prediction\\data\\raw\\application_train.csv\").resolve()\n",
    "file_test = Path(r\"C:\\devel\\Loan_default_prediction\\data\\raw\\application_test.csv\").resolve()\n",
    "df_train = pd.read_csv(file_train)\n",
    "df_test = pd.read_csv(file_test)"
   ]
  },
  {
   "cell_type": "code",
   "execution_count": 3,
   "id": "16860b3f-46a5-417b-9bc5-528e85823578",
   "metadata": {},
   "outputs": [],
   "source": [
    "def null_percentage(data):\n",
    "    null_values_total = data.isnull().sum().sort_values(ascending = False)\n",
    "    total_null_percent = (data.isnull().sum()/data.isnull().count() * 100).sort_values(ascending = False)\n",
    "    return pd.concat([null_values_total, total_null_percent], axis = 1, keys = ['Total', 'Percent'])"
   ]
  },
  {
   "cell_type": "code",
   "execution_count": 4,
   "id": "400b9efa-e9ae-44f2-89be-201a01978875",
   "metadata": {},
   "outputs": [
    {
     "name": "stdout",
     "output_type": "stream",
     "text": [
      "The shape of the training dataset is: (307511, 122)\n",
      "The shape of the testing dataset is: (48744, 121)\n"
     ]
    }
   ],
   "source": [
    "print(\"The shape of the training dataset is: {}\".format(df_train.shape))\n",
    "print(\"The shape of the testing dataset is: {}\".format(df_test.shape))"
   ]
  },
  {
   "cell_type": "code",
   "execution_count": 5,
   "id": "4b040a75-d0f4-47d5-adb3-103333d0c12f",
   "metadata": {},
   "outputs": [],
   "source": [
    "# Dropping columns that contain more than 50 percent null values per feature\n",
    "for column in df_train.columns:\n",
    "    if null_percentage(df_train[column].to_frame())['Percent'][0] > 50.00:\n",
    "        df_train.drop([column], axis = 1, inplace = True)\n",
    "        df_test.drop([column], axis = 1, inplace = True)"
   ]
  },
  {
   "cell_type": "code",
   "execution_count": 6,
   "id": "73012a56-173a-49e0-9b4b-8026c9c0a00e",
   "metadata": {},
   "outputs": [],
   "source": [
    "def mean_imputation(data):\n",
    "    \"\"\"\n",
    "    This function would take the NULL values present in data and replace them with average values of the data respectively.\n",
    "    \"\"\"\n",
    "    imputed_data = data.fillna(data.mean()).copy()\n",
    "    return imputed_data\n",
    "\n",
    "def median_imputation(data):\n",
    "    \"\"\"\n",
    "    This function would take the NULL values present in data and replace them with median values in our data respectively.\n",
    "    \"\"\"\n",
    "    imputed_data = data.fillna(data.median()).copy()\n",
    "    return imputed_data\n",
    "\n",
    "def mode_imputation(data):\n",
    "    \"\"\"\n",
    "    This function would take the NULL values present in data and replace them with mode values of the given data respectively.\n",
    "    \"\"\"\n",
    "    imputed_data = data.fillna(data.mode()).copy()\n",
    "    return imputed_data"
   ]
  },
  {
   "cell_type": "code",
   "execution_count": 7,
   "id": "ef3dc786-a294-48d8-821a-4f2e09f2be5c",
   "metadata": {},
   "outputs": [
    {
     "data": {
      "text/plain": [
       "0         0.972200\n",
       "1         0.985100\n",
       "2         0.977065\n",
       "3         0.977065\n",
       "4         0.977065\n",
       "            ...   \n",
       "307506    0.978200\n",
       "307507    0.972700\n",
       "307508    0.981600\n",
       "307509    0.977200\n",
       "307510    0.988100\n",
       "Name: YEARS_BEGINEXPLUATATION_MODE, Length: 307511, dtype: float64"
      ]
     },
     "execution_count": 7,
     "metadata": {},
     "output_type": "execute_result"
    }
   ],
   "source": [
    "mean_imputation(df_train['FLOORSMAX_AVG'])\n",
    "mean_imputation(df_train['FLOORSMAX_MEDI'])\n",
    "mean_imputation(df_train['FLOORSMAX_MODE'])\n",
    "mean_imputation(df_train['YEARS_BEGINEXPLUATATION_AVG'])\n",
    "mean_imputation(df_train['YEARS_BEGINEXPLUATATION_MEDI'])\n",
    "mean_imputation(df_train['YEARS_BEGINEXPLUATATION_MODE'])"
   ]
  },
  {
   "cell_type": "code",
   "execution_count": 8,
   "id": "20fc4160-0bc6-4ba8-9013-8a4f50f65d9e",
   "metadata": {},
   "outputs": [],
   "source": [
    "null_percent_values = null_percentage(df_train)['Percent']\n",
    "features_with_low_null_values = []\n",
    "for i in range(len(df_train.columns)):\n",
    "    if null_percent_values.iloc[i] < 10.0:\n",
    "        features_with_low_null_values.append(null_percent_values.index[i]) "
   ]
  },
  {
   "cell_type": "code",
   "execution_count": 9,
   "id": "6cf4fe58-cd93-4cd6-9ebd-6f37fe00d8f3",
   "metadata": {},
   "outputs": [],
   "source": [
    "df_train_converted = df_train[features_with_low_null_values]"
   ]
  },
  {
   "cell_type": "code",
   "execution_count": 10,
   "id": "88afe154-cbb6-4ec5-b21a-c0ce84d3008d",
   "metadata": {},
   "outputs": [],
   "source": [
    "## This is done to get the categorical features. We can then perform mode imputation to get the values respectively.\n",
    "## The suggestion was implemented from the website https://stackoverflow.com/questions/29803093/check-which-columns-in-dataframe-are-categorical\n",
    "total_columns =df_train_converted.columns \n",
    "numeric_data = df_train_converted._get_numeric_data()\n",
    "categorical_columns = list(set(total_columns) - set(numeric_data.columns))"
   ]
  },
  {
   "cell_type": "code",
   "execution_count": 12,
   "id": "e9fa8501-c3eb-47db-a39b-75d9a8f75104",
   "metadata": {},
   "outputs": [],
   "source": [
    "categorical_data = df_train_converted[categorical_columns]"
   ]
  },
  {
   "cell_type": "code",
   "execution_count": 13,
   "id": "97c16c74-9676-4968-944e-52b7cfe072f1",
   "metadata": {},
   "outputs": [
    {
     "data": {
      "text/html": [
       "<div>\n",
       "<style scoped>\n",
       "    .dataframe tbody tr th:only-of-type {\n",
       "        vertical-align: middle;\n",
       "    }\n",
       "\n",
       "    .dataframe tbody tr th {\n",
       "        vertical-align: top;\n",
       "    }\n",
       "\n",
       "    .dataframe thead th {\n",
       "        text-align: right;\n",
       "    }\n",
       "</style>\n",
       "<table border=\"1\" class=\"dataframe\">\n",
       "  <thead>\n",
       "    <tr style=\"text-align: right;\">\n",
       "      <th></th>\n",
       "      <th>NAME_EDUCATION_TYPE</th>\n",
       "      <th>ORGANIZATION_TYPE</th>\n",
       "      <th>WEEKDAY_APPR_PROCESS_START</th>\n",
       "      <th>NAME_HOUSING_TYPE</th>\n",
       "      <th>NAME_CONTRACT_TYPE</th>\n",
       "      <th>FLAG_OWN_CAR</th>\n",
       "      <th>NAME_INCOME_TYPE</th>\n",
       "      <th>CODE_GENDER</th>\n",
       "      <th>FLAG_OWN_REALTY</th>\n",
       "      <th>NAME_FAMILY_STATUS</th>\n",
       "      <th>NAME_TYPE_SUITE</th>\n",
       "    </tr>\n",
       "  </thead>\n",
       "  <tbody>\n",
       "    <tr>\n",
       "      <th>0</th>\n",
       "      <td>Secondary / secondary special</td>\n",
       "      <td>Business Entity Type 3</td>\n",
       "      <td>WEDNESDAY</td>\n",
       "      <td>House / apartment</td>\n",
       "      <td>Cash loans</td>\n",
       "      <td>N</td>\n",
       "      <td>Working</td>\n",
       "      <td>M</td>\n",
       "      <td>Y</td>\n",
       "      <td>Single / not married</td>\n",
       "      <td>Unaccompanied</td>\n",
       "    </tr>\n",
       "    <tr>\n",
       "      <th>1</th>\n",
       "      <td>Higher education</td>\n",
       "      <td>School</td>\n",
       "      <td>MONDAY</td>\n",
       "      <td>House / apartment</td>\n",
       "      <td>Cash loans</td>\n",
       "      <td>N</td>\n",
       "      <td>State servant</td>\n",
       "      <td>F</td>\n",
       "      <td>N</td>\n",
       "      <td>Married</td>\n",
       "      <td>Family</td>\n",
       "    </tr>\n",
       "    <tr>\n",
       "      <th>2</th>\n",
       "      <td>Secondary / secondary special</td>\n",
       "      <td>Government</td>\n",
       "      <td>MONDAY</td>\n",
       "      <td>House / apartment</td>\n",
       "      <td>Revolving loans</td>\n",
       "      <td>Y</td>\n",
       "      <td>Working</td>\n",
       "      <td>M</td>\n",
       "      <td>Y</td>\n",
       "      <td>Single / not married</td>\n",
       "      <td>Unaccompanied</td>\n",
       "    </tr>\n",
       "    <tr>\n",
       "      <th>3</th>\n",
       "      <td>Secondary / secondary special</td>\n",
       "      <td>Business Entity Type 3</td>\n",
       "      <td>WEDNESDAY</td>\n",
       "      <td>House / apartment</td>\n",
       "      <td>Cash loans</td>\n",
       "      <td>N</td>\n",
       "      <td>Working</td>\n",
       "      <td>F</td>\n",
       "      <td>Y</td>\n",
       "      <td>Civil marriage</td>\n",
       "      <td>Unaccompanied</td>\n",
       "    </tr>\n",
       "    <tr>\n",
       "      <th>4</th>\n",
       "      <td>Secondary / secondary special</td>\n",
       "      <td>Religion</td>\n",
       "      <td>THURSDAY</td>\n",
       "      <td>House / apartment</td>\n",
       "      <td>Cash loans</td>\n",
       "      <td>N</td>\n",
       "      <td>Working</td>\n",
       "      <td>M</td>\n",
       "      <td>Y</td>\n",
       "      <td>Single / not married</td>\n",
       "      <td>Unaccompanied</td>\n",
       "    </tr>\n",
       "    <tr>\n",
       "      <th>...</th>\n",
       "      <td>...</td>\n",
       "      <td>...</td>\n",
       "      <td>...</td>\n",
       "      <td>...</td>\n",
       "      <td>...</td>\n",
       "      <td>...</td>\n",
       "      <td>...</td>\n",
       "      <td>...</td>\n",
       "      <td>...</td>\n",
       "      <td>...</td>\n",
       "      <td>...</td>\n",
       "    </tr>\n",
       "    <tr>\n",
       "      <th>307506</th>\n",
       "      <td>Secondary / secondary special</td>\n",
       "      <td>Services</td>\n",
       "      <td>THURSDAY</td>\n",
       "      <td>With parents</td>\n",
       "      <td>Cash loans</td>\n",
       "      <td>N</td>\n",
       "      <td>Working</td>\n",
       "      <td>M</td>\n",
       "      <td>N</td>\n",
       "      <td>Separated</td>\n",
       "      <td>Unaccompanied</td>\n",
       "    </tr>\n",
       "    <tr>\n",
       "      <th>307507</th>\n",
       "      <td>Secondary / secondary special</td>\n",
       "      <td>XNA</td>\n",
       "      <td>MONDAY</td>\n",
       "      <td>House / apartment</td>\n",
       "      <td>Cash loans</td>\n",
       "      <td>N</td>\n",
       "      <td>Pensioner</td>\n",
       "      <td>F</td>\n",
       "      <td>Y</td>\n",
       "      <td>Widow</td>\n",
       "      <td>Unaccompanied</td>\n",
       "    </tr>\n",
       "    <tr>\n",
       "      <th>307508</th>\n",
       "      <td>Higher education</td>\n",
       "      <td>School</td>\n",
       "      <td>THURSDAY</td>\n",
       "      <td>House / apartment</td>\n",
       "      <td>Cash loans</td>\n",
       "      <td>N</td>\n",
       "      <td>Working</td>\n",
       "      <td>F</td>\n",
       "      <td>Y</td>\n",
       "      <td>Separated</td>\n",
       "      <td>Unaccompanied</td>\n",
       "    </tr>\n",
       "    <tr>\n",
       "      <th>307509</th>\n",
       "      <td>Secondary / secondary special</td>\n",
       "      <td>Business Entity Type 1</td>\n",
       "      <td>WEDNESDAY</td>\n",
       "      <td>House / apartment</td>\n",
       "      <td>Cash loans</td>\n",
       "      <td>N</td>\n",
       "      <td>Commercial associate</td>\n",
       "      <td>F</td>\n",
       "      <td>Y</td>\n",
       "      <td>Married</td>\n",
       "      <td>Unaccompanied</td>\n",
       "    </tr>\n",
       "    <tr>\n",
       "      <th>307510</th>\n",
       "      <td>Higher education</td>\n",
       "      <td>Business Entity Type 3</td>\n",
       "      <td>THURSDAY</td>\n",
       "      <td>House / apartment</td>\n",
       "      <td>Cash loans</td>\n",
       "      <td>N</td>\n",
       "      <td>Commercial associate</td>\n",
       "      <td>F</td>\n",
       "      <td>N</td>\n",
       "      <td>Married</td>\n",
       "      <td>Unaccompanied</td>\n",
       "    </tr>\n",
       "  </tbody>\n",
       "</table>\n",
       "<p>307511 rows × 11 columns</p>\n",
       "</div>"
      ],
      "text/plain": [
       "                  NAME_EDUCATION_TYPE       ORGANIZATION_TYPE  \\\n",
       "0       Secondary / secondary special  Business Entity Type 3   \n",
       "1                    Higher education                  School   \n",
       "2       Secondary / secondary special              Government   \n",
       "3       Secondary / secondary special  Business Entity Type 3   \n",
       "4       Secondary / secondary special                Religion   \n",
       "...                               ...                     ...   \n",
       "307506  Secondary / secondary special                Services   \n",
       "307507  Secondary / secondary special                     XNA   \n",
       "307508               Higher education                  School   \n",
       "307509  Secondary / secondary special  Business Entity Type 1   \n",
       "307510               Higher education  Business Entity Type 3   \n",
       "\n",
       "       WEEKDAY_APPR_PROCESS_START  NAME_HOUSING_TYPE NAME_CONTRACT_TYPE  \\\n",
       "0                       WEDNESDAY  House / apartment         Cash loans   \n",
       "1                          MONDAY  House / apartment         Cash loans   \n",
       "2                          MONDAY  House / apartment    Revolving loans   \n",
       "3                       WEDNESDAY  House / apartment         Cash loans   \n",
       "4                        THURSDAY  House / apartment         Cash loans   \n",
       "...                           ...                ...                ...   \n",
       "307506                   THURSDAY       With parents         Cash loans   \n",
       "307507                     MONDAY  House / apartment         Cash loans   \n",
       "307508                   THURSDAY  House / apartment         Cash loans   \n",
       "307509                  WEDNESDAY  House / apartment         Cash loans   \n",
       "307510                   THURSDAY  House / apartment         Cash loans   \n",
       "\n",
       "       FLAG_OWN_CAR      NAME_INCOME_TYPE CODE_GENDER FLAG_OWN_REALTY  \\\n",
       "0                 N               Working           M               Y   \n",
       "1                 N         State servant           F               N   \n",
       "2                 Y               Working           M               Y   \n",
       "3                 N               Working           F               Y   \n",
       "4                 N               Working           M               Y   \n",
       "...             ...                   ...         ...             ...   \n",
       "307506            N               Working           M               N   \n",
       "307507            N             Pensioner           F               Y   \n",
       "307508            N               Working           F               Y   \n",
       "307509            N  Commercial associate           F               Y   \n",
       "307510            N  Commercial associate           F               N   \n",
       "\n",
       "          NAME_FAMILY_STATUS NAME_TYPE_SUITE  \n",
       "0       Single / not married   Unaccompanied  \n",
       "1                    Married          Family  \n",
       "2       Single / not married   Unaccompanied  \n",
       "3             Civil marriage   Unaccompanied  \n",
       "4       Single / not married   Unaccompanied  \n",
       "...                      ...             ...  \n",
       "307506             Separated   Unaccompanied  \n",
       "307507                 Widow   Unaccompanied  \n",
       "307508             Separated   Unaccompanied  \n",
       "307509               Married   Unaccompanied  \n",
       "307510               Married   Unaccompanied  \n",
       "\n",
       "[307511 rows x 11 columns]"
      ]
     },
     "execution_count": 13,
     "metadata": {},
     "output_type": "execute_result"
    }
   ],
   "source": [
    "mode_imputation(categorical_data)"
   ]
  },
  {
   "cell_type": "code",
   "execution_count": null,
   "id": "e5e93162-97a3-4b4f-ab9e-4434581a12d8",
   "metadata": {},
   "outputs": [],
   "source": [
    "numeric_data.head()"
   ]
  },
  {
   "cell_type": "code",
   "execution_count": null,
   "id": "2527d3f9-344d-4767-900c-e7491d765cc8",
   "metadata": {},
   "outputs": [],
   "source": [
    "categorical_data.head()"
   ]
  },
  {
   "cell_type": "code",
   "execution_count": null,
   "id": "bab7a964-432e-4673-8da5-71a2daeb800e",
   "metadata": {},
   "outputs": [],
   "source": [
    "has_missing = numeric_data.isnull().any()\n",
    "missing_data_columns = numeric_data.columns[has_missing]"
   ]
  },
  {
   "cell_type": "code",
   "execution_count": null,
   "id": "7fefc5b5-8071-440c-b811-2422416bbfaf",
   "metadata": {},
   "outputs": [],
   "source": [
    "missing_data_columns"
   ]
  },
  {
   "cell_type": "code",
   "execution_count": null,
   "id": "3b08121e-999b-4b44-afca-f9887fbb2a5b",
   "metadata": {},
   "outputs": [],
   "source": [
    "# Showing data with features that have missing values\n",
    "numeric_data[missing_data_columns].head()"
   ]
  },
  {
   "cell_type": "code",
   "execution_count": null,
   "id": "227bf2cf-fdf0-471e-8bbd-2ca6f9882813",
   "metadata": {},
   "outputs": [],
   "source": [
    "# Imputing the missing values with the mean of the data\n",
    "mean_imputation(numeric_data[missing_data_columns])"
   ]
  },
  {
   "cell_type": "code",
   "execution_count": null,
   "id": "74a6f28e-1c11-464e-b541-3f2f6272b8b1",
   "metadata": {},
   "outputs": [],
   "source": [
    "numeric_data.fillna(numeric_data.mean(), inplace = True)"
   ]
  },
  {
   "cell_type": "code",
   "execution_count": null,
   "id": "c874371a-3ed2-48f0-82ec-2f1bf639b724",
   "metadata": {},
   "outputs": [],
   "source": [
    "has_missing = categorical_data.isnull().any()\n",
    "missing_data_columns = categorical_data.columns[has_missing]"
   ]
  },
  {
   "cell_type": "code",
   "execution_count": null,
   "id": "d780023e-1f4a-4f1d-b100-24b0053405b4",
   "metadata": {},
   "outputs": [],
   "source": [
    "print(\"The shape of numeric data: {}\".format(numeric_data.shape))\n",
    "print(\"The shape of categorical data: {}\".format(categorical_data.shape))"
   ]
  },
  {
   "cell_type": "code",
   "execution_count": null,
   "id": "3374aa92-71bf-4662-b415-e81a49ec4cd7",
   "metadata": {},
   "outputs": [],
   "source": [
    "# concatenating the categorical and numerical column\n",
    "df_final = pd.concat([numeric_data, categorical_data], axis = 1)"
   ]
  },
  {
   "cell_type": "code",
   "execution_count": null,
   "id": "6e1e2880-7cd1-42cf-a7be-5cb4dd3669c4",
   "metadata": {},
   "outputs": [],
   "source": [
    "missing_data_columns"
   ]
  },
  {
   "cell_type": "code",
   "execution_count": null,
   "id": "c1b37c4b-65db-41c3-8139-b7f2d3d20a94",
   "metadata": {},
   "outputs": [],
   "source": []
  }
 ],
 "metadata": {
  "kernelspec": {
   "display_name": "lon_deflt",
   "language": "python",
   "name": "lon_deflt"
  },
  "language_info": {
   "codemirror_mode": {
    "name": "ipython",
    "version": 3
   },
   "file_extension": ".py",
   "mimetype": "text/x-python",
   "name": "python",
   "nbconvert_exporter": "python",
   "pygments_lexer": "ipython3",
   "version": "3.8.17"
  }
 },
 "nbformat": 4,
 "nbformat_minor": 5
}
