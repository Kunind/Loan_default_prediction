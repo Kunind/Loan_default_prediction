{
 "cells": [
  {
   "cell_type": "code",
   "execution_count": 2,
   "id": "9d8554a9-c3cb-46f9-a80a-eba6f63d4964",
   "metadata": {},
   "outputs": [],
   "source": [
    "import pandas as pd\n",
    "from pathlib import Path"
   ]
  },
  {
   "cell_type": "code",
   "execution_count": 5,
   "id": "8b88381a-eda7-49e6-9022-329aa492199b",
   "metadata": {},
   "outputs": [],
   "source": [
    "file_train = Path(r\"C:\\devel\\Loan_default_prediction\\data\\raw\\application_train.csv\").resolve()\n",
    "file_test = Path(r\"C:\\devel\\Loan_default_prediction\\data\\raw\\application_test.csv\").resolve()\n",
    "df_train = pd.read_csv(file_train)\n",
    "df_test = pd.read_csv(file_test)"
   ]
  },
  {
   "cell_type": "code",
   "execution_count": 6,
   "id": "16860b3f-46a5-417b-9bc5-528e85823578",
   "metadata": {},
   "outputs": [],
   "source": [
    "def null_percentage(data):\n",
    "    null_values_total = data.isnull().sum().sort_values(ascending = False)\n",
    "    total_null_percent = (data.isnull().sum()/data.isnull().count() * 100).sort_values(ascending = False)\n",
    "    return pd.concat([null_values_total, total_null_percent], axis = 1, keys = ['Total', 'Percent'])"
   ]
  },
  {
   "cell_type": "code",
   "execution_count": 7,
   "id": "400b9efa-e9ae-44f2-89be-201a01978875",
   "metadata": {},
   "outputs": [
    {
     "name": "stdout",
     "output_type": "stream",
     "text": [
      "The shape of the training dataset is: (307511, 122)\n",
      "The shape of the testing dataset is: (48744, 121)\n"
     ]
    }
   ],
   "source": [
    "print(\"The shape of the training dataset is: {}\".format(df_train.shape))\n",
    "print(\"The shape of the testing dataset is: {}\".format(df_test.shape))"
   ]
  },
  {
   "cell_type": "code",
   "execution_count": 8,
   "id": "4b040a75-d0f4-47d5-adb3-103333d0c12f",
   "metadata": {},
   "outputs": [],
   "source": [
    "# Dropping columns that contain more than 50 percent null values per feature\n",
    "for column in df_train.columns:\n",
    "    if null_percentage(df_train[column].to_frame())['Percent'][0] > 50.00:\n",
    "        df_train.drop([column], axis = 1, inplace = True)\n",
    "        df_test.drop([column], axis = 1, inplace = True)"
   ]
  },
  {
   "cell_type": "code",
   "execution_count": 9,
   "id": "73012a56-173a-49e0-9b4b-8026c9c0a00e",
   "metadata": {},
   "outputs": [],
   "source": [
    "def mean_imputation(data):\n",
    "    \"\"\"\n",
    "    This function would take the NULL values present in data and replace them with average values of the data respectively.\n",
    "    \"\"\"\n",
    "    imputed_data = data.fillna(data.mean()).copy()\n",
    "    return imputed_data\n",
    "\n",
    "def median_imputation(data):\n",
    "    \"\"\"\n",
    "    This function would take the NULL values present in data and replace them with median values in our data respectively.\n",
    "    \"\"\"\n",
    "    imputed_data = data.fillna(data.median()).copy()\n",
    "    return imputed_data\n",
    "\n",
    "def mode_imputation(data):\n",
    "    \"\"\"\n",
    "    This function would take the NULL values present in data and replace them with mode values of the given data respectively.\n",
    "    \"\"\"\n",
    "    imputed_data = data.fillna(data.mode()).copy()\n",
    "    return imputed_data"
   ]
  },
  {
   "cell_type": "code",
   "execution_count": 10,
   "id": "ef3dc786-a294-48d8-821a-4f2e09f2be5c",
   "metadata": {},
   "outputs": [
    {
     "data": {
      "text/plain": [
       "0         0.972200\n",
       "1         0.985100\n",
       "2         0.977065\n",
       "3         0.977065\n",
       "4         0.977065\n",
       "            ...   \n",
       "307506    0.978200\n",
       "307507    0.972700\n",
       "307508    0.981600\n",
       "307509    0.977200\n",
       "307510    0.988100\n",
       "Name: YEARS_BEGINEXPLUATATION_MODE, Length: 307511, dtype: float64"
      ]
     },
     "execution_count": 10,
     "metadata": {},
     "output_type": "execute_result"
    }
   ],
   "source": [
    "mean_imputation(df_train['FLOORSMAX_AVG'])\n",
    "mean_imputation(df_train['FLOORSMAX_MEDI'])\n",
    "mean_imputation(df_train['FLOORSMAX_MODE'])\n",
    "mean_imputation(df_train['YEARS_BEGINEXPLUATATION_AVG'])\n",
    "mean_imputation(df_train['YEARS_BEGINEXPLUATATION_MEDI'])\n",
    "mean_imputation(df_train['YEARS_BEGINEXPLUATATION_MODE'])"
   ]
  },
  {
   "cell_type": "code",
   "execution_count": 11,
   "id": "20fc4160-0bc6-4ba8-9013-8a4f50f65d9e",
   "metadata": {},
   "outputs": [],
   "source": [
    "null_percent_values = null_percentage(df_train)['Percent']\n",
    "features_with_low_null_values = []\n",
    "for i in range(len(df_train.columns)):\n",
    "    if null_percent_values.iloc[i] < 10.0:\n",
    "        features_with_low_null_values.append(null_percent_values.index[i]) "
   ]
  },
  {
   "cell_type": "code",
   "execution_count": null,
   "id": "6cf4fe58-cd93-4cd6-9ebd-6f37fe00d8f3",
   "metadata": {},
   "outputs": [],
   "source": []
  }
 ],
 "metadata": {
  "kernelspec": {
   "display_name": "lon_deflt",
   "language": "python",
   "name": "lon_deflt"
  },
  "language_info": {
   "codemirror_mode": {
    "name": "ipython",
    "version": 3
   },
   "file_extension": ".py",
   "mimetype": "text/x-python",
   "name": "python",
   "nbconvert_exporter": "python",
   "pygments_lexer": "ipython3",
   "version": "3.9.17"
  }
 },
 "nbformat": 4,
 "nbformat_minor": 5
}
